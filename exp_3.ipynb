{
 "cells": [
  {
   "cell_type": "code",
   "execution_count": 33,
   "id": "c93d8652",
   "metadata": {},
   "outputs": [
    {
     "name": "stderr",
     "output_type": "stream",
     "text": [
      "/home/lyov/anaconda3/envs/SHAD_ML/lib/python3.9/site-packages/scipy/optimize/linesearch.py:478: LineSearchWarning: The line search algorithm did not converge\n",
      "  warn('The line search algorithm did not converge', LineSearchWarning)\n"
     ]
    }
   ],
   "source": [
    "import optimization\n",
    "import oracles\n",
    "import sklearn.datasets as ds\n",
    "import os\n",
    "\n",
    "import datetime\n",
    "import math\n",
    "\n",
    "import matplotlib\n",
    "matplotlib.use('Agg')\n",
    "import matplotlib.pyplot as plt\n",
    "\n",
    "import plot_trajectory_2d\n",
    "\n",
    "from nose.tools import assert_almost_equal, ok_, eq_\n",
    "\n",
    "import numpy as np\n",
    "import numpy.linalg as li\n",
    "import scipy.sparse as sp\n",
    "\n",
    "np.random.seed(7412)\n",
    "\n",
    "for data in [\"w8a\", \"gisette_scale\"]:\n",
    "    A, b = ds.load_svmlight_file(\"datasets/{}\".format(data))\n",
    "    lamda = 1 / np.alen(b)\n",
    "    hists = dict()\n",
    "    logr = oracles.create_log_reg_oracle(A, b, lamda)\n",
    "    for opt, label, c in zip([optimization.gradient_descent, optimization.newton], [\"GD\", \"Newton\"], [\"green\", \"blue\"]):\n",
    "        x_star, msg, history = opt(logr, np.zeros(A.shape[1]), trace=True)\n",
    "        hists[label] = history\n",
    "    hists[\"GD\"][\"time\"] = np.array(hists[\"GD\"][\"time\"], dtype=str)\n",
    "    hists[\"Newton\"][\"time\"] = np.array(hists[\"Newton\"][\"time\"], dtype=str)\n",
    "    plt.clf()\n",
    "    plt.plot(hists[\"GD\"]['time'], hists[\"GD\"]['func'], color='green', label=\"GD\")\n",
    "    plt.plot(hists[\"Newton\"]['time'], hists[\"Newton\"]['func'], color='blue', label=\"Newton\")\n",
    "    plt.xlabel('Seconds')\n",
    "    plt.ylabel('F(x)')\n",
    "    plt.legend()\n",
    "    plt.savefig('func-{0}.png'.format(data))\n",
    "    plt.clf()\n",
    "    df_0 = li.norm(logr.grad(np.zeros(A.shape[1])))**2\n",
    "    r_k_gd = np.vectorize(lambda x: math.log(li.norm(x**2)/df_0))(hists['GD']['grad_norm'])\n",
    "    r_k_new = np.vectorize(lambda x: math.log(li.norm(x**2)/df_0))(hists['Newton']['grad_norm'])\n",
    "    plt.plot(hists[\"GD\"]['time'], r_k_gd, color='green', label=\"GD\")\n",
    "    plt.plot(hists[\"Newton\"]['time'], r_k_new, color='blue', label=\"Newton\")\n",
    "    \n",
    "    plt.xlabel('Seconds')\n",
    "    plt.ylabel('ln(r_k)')\n",
    "    plt.legend()\n",
    "    plt.savefig('r_k-{0}.png'.format(data))\n",
    "\n",
    "A, b = ds.load_svmlight_file(\"datasets/real-sim\")\n",
    "\n",
    "lamda = 1 / np.alen(b)\n",
    "hists = dict()\n",
    "logr = oracles.create_log_reg_oracle(A, b, lamda)\n",
    "for opt, label, c in zip([optimization.gradient_descent], [\"GD\"], [\"green\"]):\n",
    "    x_star, msg, history = opt(logr, np.zeros(A.shape[1]), trace=True)\n",
    "    hists[label] = history\n",
    "plt.clf()\n",
    "hists[\"GD\"][\"time\"] = np.array(hists[\"GD\"][\"time\"], dtype=str)\n",
    "    \n",
    "plt.plot(hists[\"GD\"]['time'], hists[\"GD\"]['func'], color='green', label=\"GD\")\n",
    "    \n",
    "plt.xlabel('Seconds')\n",
    "plt.ylabel('F(x)')\n",
    "plt.legend()\n",
    "plt.savefig('func-{0}.png'.format(\"sample-real-sim\"))\n",
    "plt.clf()\n",
    "df_0 = li.norm(logr.grad(np.zeros(A.shape[1]))) ** 2\n",
    "r_k_gd = np.vectorize(lambda x: math.log(li.norm(x ** 2) / df_0))(hists['GD']['grad_norm'])\n",
    "plt.plot(hists[\"GD\"]['time'], r_k_gd, color='green', label=\"GD\")\n",
    "\n",
    "plt.xlabel('Seconds')\n",
    "plt.ylabel('ln(r_k)')\n",
    "plt.legend()\n",
    "plt.savefig('r_k-{0}.png'.format(\"sample-real-sim\"))"
   ]
  },
  {
   "cell_type": "code",
   "execution_count": null,
   "id": "98bc7e6a",
   "metadata": {},
   "outputs": [],
   "source": []
  }
 ],
 "metadata": {
  "kernelspec": {
   "display_name": "Python 3 (ipykernel)",
   "language": "python",
   "name": "python3"
  },
  "language_info": {
   "codemirror_mode": {
    "name": "ipython",
    "version": 3
   },
   "file_extension": ".py",
   "mimetype": "text/x-python",
   "name": "python",
   "nbconvert_exporter": "python",
   "pygments_lexer": "ipython3",
   "version": "3.9.7"
  }
 },
 "nbformat": 4,
 "nbformat_minor": 5
}
